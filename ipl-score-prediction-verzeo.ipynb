{
  "nbformat": 4,
  "nbformat_minor": 0,
  "metadata": {
    "colab": {
      "name": "ipl-score-prediction.ipynb",
      "provenance": []
    },
    "kernelspec": {
      "name": "python3",
      "display_name": "Python 3"
    }
  },
  "cells": [
    {
      "cell_type": "markdown",
      "metadata": {
        "id": "g2Wc7W7Kc2cW"
      },
      "source": [
        "**IPL SCORE PREDICTION USING MACHINE LEARNING TECHNIQUES**"
      ]
    },
    {
      "cell_type": "markdown",
      "metadata": {
        "id": "SfMvV1UFmBsM"
      },
      "source": [
        "Importing required libraries"
      ]
    },
    {
      "cell_type": "code",
      "metadata": {
        "id": "Q6B-1PqRYIzS"
      },
      "source": [
        "import pandas as pd"
      ],
      "execution_count": 45,
      "outputs": []
    },
    {
      "cell_type": "code",
      "metadata": {
        "id": "y3X5X_QScemA"
      },
      "source": [
        "df=pd.read_csv('ipl2017.csv')"
      ],
      "execution_count": 46,
      "outputs": []
    },
    {
      "cell_type": "code",
      "metadata": {
        "id": "BR45gs3ScuyV",
        "outputId": "0d9bf53a-c5e1-485e-8c2e-2c7f133ac677",
        "colab": {
          "base_uri": "https://localhost:8080/",
          "height": 204
        }
      },
      "source": [
        "df.head()"
      ],
      "execution_count": 47,
      "outputs": [
        {
          "output_type": "execute_result",
          "data": {
            "text/html": [
              "<div>\n",
              "<style scoped>\n",
              "    .dataframe tbody tr th:only-of-type {\n",
              "        vertical-align: middle;\n",
              "    }\n",
              "\n",
              "    .dataframe tbody tr th {\n",
              "        vertical-align: top;\n",
              "    }\n",
              "\n",
              "    .dataframe thead th {\n",
              "        text-align: right;\n",
              "    }\n",
              "</style>\n",
              "<table border=\"1\" class=\"dataframe\">\n",
              "  <thead>\n",
              "    <tr style=\"text-align: right;\">\n",
              "      <th></th>\n",
              "      <th>mid</th>\n",
              "      <th>date</th>\n",
              "      <th>venue</th>\n",
              "      <th>bat_team</th>\n",
              "      <th>bowl_team</th>\n",
              "      <th>batsman</th>\n",
              "      <th>bowler</th>\n",
              "      <th>runs</th>\n",
              "      <th>wickets</th>\n",
              "      <th>overs</th>\n",
              "      <th>runs_last_5</th>\n",
              "      <th>wickets_last_5</th>\n",
              "      <th>striker</th>\n",
              "      <th>non-striker</th>\n",
              "      <th>total</th>\n",
              "    </tr>\n",
              "  </thead>\n",
              "  <tbody>\n",
              "    <tr>\n",
              "      <th>0</th>\n",
              "      <td>1</td>\n",
              "      <td>2008-04-18</td>\n",
              "      <td>M Chinnaswamy Stadium</td>\n",
              "      <td>Kolkata Knight Riders</td>\n",
              "      <td>Royal Challengers Bangalore</td>\n",
              "      <td>SC Ganguly</td>\n",
              "      <td>P Kumar</td>\n",
              "      <td>1</td>\n",
              "      <td>0</td>\n",
              "      <td>0.1</td>\n",
              "      <td>1</td>\n",
              "      <td>0</td>\n",
              "      <td>0</td>\n",
              "      <td>0</td>\n",
              "      <td>222</td>\n",
              "    </tr>\n",
              "    <tr>\n",
              "      <th>1</th>\n",
              "      <td>1</td>\n",
              "      <td>2008-04-18</td>\n",
              "      <td>M Chinnaswamy Stadium</td>\n",
              "      <td>Kolkata Knight Riders</td>\n",
              "      <td>Royal Challengers Bangalore</td>\n",
              "      <td>BB McCullum</td>\n",
              "      <td>P Kumar</td>\n",
              "      <td>1</td>\n",
              "      <td>0</td>\n",
              "      <td>0.2</td>\n",
              "      <td>1</td>\n",
              "      <td>0</td>\n",
              "      <td>0</td>\n",
              "      <td>0</td>\n",
              "      <td>222</td>\n",
              "    </tr>\n",
              "    <tr>\n",
              "      <th>2</th>\n",
              "      <td>1</td>\n",
              "      <td>2008-04-18</td>\n",
              "      <td>M Chinnaswamy Stadium</td>\n",
              "      <td>Kolkata Knight Riders</td>\n",
              "      <td>Royal Challengers Bangalore</td>\n",
              "      <td>BB McCullum</td>\n",
              "      <td>P Kumar</td>\n",
              "      <td>2</td>\n",
              "      <td>0</td>\n",
              "      <td>0.2</td>\n",
              "      <td>2</td>\n",
              "      <td>0</td>\n",
              "      <td>0</td>\n",
              "      <td>0</td>\n",
              "      <td>222</td>\n",
              "    </tr>\n",
              "    <tr>\n",
              "      <th>3</th>\n",
              "      <td>1</td>\n",
              "      <td>2008-04-18</td>\n",
              "      <td>M Chinnaswamy Stadium</td>\n",
              "      <td>Kolkata Knight Riders</td>\n",
              "      <td>Royal Challengers Bangalore</td>\n",
              "      <td>BB McCullum</td>\n",
              "      <td>P Kumar</td>\n",
              "      <td>2</td>\n",
              "      <td>0</td>\n",
              "      <td>0.3</td>\n",
              "      <td>2</td>\n",
              "      <td>0</td>\n",
              "      <td>0</td>\n",
              "      <td>0</td>\n",
              "      <td>222</td>\n",
              "    </tr>\n",
              "    <tr>\n",
              "      <th>4</th>\n",
              "      <td>1</td>\n",
              "      <td>2008-04-18</td>\n",
              "      <td>M Chinnaswamy Stadium</td>\n",
              "      <td>Kolkata Knight Riders</td>\n",
              "      <td>Royal Challengers Bangalore</td>\n",
              "      <td>BB McCullum</td>\n",
              "      <td>P Kumar</td>\n",
              "      <td>2</td>\n",
              "      <td>0</td>\n",
              "      <td>0.4</td>\n",
              "      <td>2</td>\n",
              "      <td>0</td>\n",
              "      <td>0</td>\n",
              "      <td>0</td>\n",
              "      <td>222</td>\n",
              "    </tr>\n",
              "  </tbody>\n",
              "</table>\n",
              "</div>"
            ],
            "text/plain": [
              "   mid        date                  venue  ... striker non-striker total\n",
              "0    1  2008-04-18  M Chinnaswamy Stadium  ...       0           0   222\n",
              "1    1  2008-04-18  M Chinnaswamy Stadium  ...       0           0   222\n",
              "2    1  2008-04-18  M Chinnaswamy Stadium  ...       0           0   222\n",
              "3    1  2008-04-18  M Chinnaswamy Stadium  ...       0           0   222\n",
              "4    1  2008-04-18  M Chinnaswamy Stadium  ...       0           0   222\n",
              "\n",
              "[5 rows x 15 columns]"
            ]
          },
          "metadata": {
            "tags": []
          },
          "execution_count": 47
        }
      ]
    },
    {
      "cell_type": "markdown",
      "metadata": {
        "id": "EMHmNFYUmHHH"
      },
      "source": [
        "Droping unecessary columns"
      ]
    },
    {
      "cell_type": "code",
      "metadata": {
        "id": "1UhtPBPoczHL"
      },
      "source": [
        "df=df.drop('mid',axis=1)\n"
      ],
      "execution_count": 48,
      "outputs": []
    },
    {
      "cell_type": "code",
      "metadata": {
        "id": "WWCHaGtriKtd"
      },
      "source": [
        "df=df.drop('date',axis=1)"
      ],
      "execution_count": 49,
      "outputs": []
    },
    {
      "cell_type": "markdown",
      "metadata": {
        "id": "yuHLE-n0dh8y"
      },
      "source": [
        "USING ONE HOT ENCODING TO CONVERT THE CATEGORICAL COLUMNS TO NUMERICAL COLUMNS"
      ]
    },
    {
      "cell_type": "code",
      "metadata": {
        "id": "daye5vVrdLRW"
      },
      "source": [
        "a=pd.get_dummies(df,columns=['venue','bat_team','bowl_team','batsman','bowler'],drop_first=True)"
      ],
      "execution_count": 50,
      "outputs": []
    },
    {
      "cell_type": "code",
      "metadata": {
        "id": "CUQI3jLgez_8",
        "outputId": "fb920a13-8753-4443-dffc-75a39ee99a28",
        "colab": {
          "base_uri": "https://localhost:8080/",
          "height": 355
        }
      },
      "source": [
        "a.head()"
      ],
      "execution_count": 51,
      "outputs": [
        {
          "output_type": "execute_result",
          "data": {
            "text/html": [
              "<div>\n",
              "<style scoped>\n",
              "    .dataframe tbody tr th:only-of-type {\n",
              "        vertical-align: middle;\n",
              "    }\n",
              "\n",
              "    .dataframe tbody tr th {\n",
              "        vertical-align: top;\n",
              "    }\n",
              "\n",
              "    .dataframe thead th {\n",
              "        text-align: right;\n",
              "    }\n",
              "</style>\n",
              "<table border=\"1\" class=\"dataframe\">\n",
              "  <thead>\n",
              "    <tr style=\"text-align: right;\">\n",
              "      <th></th>\n",
              "      <th>runs</th>\n",
              "      <th>wickets</th>\n",
              "      <th>overs</th>\n",
              "      <th>runs_last_5</th>\n",
              "      <th>wickets_last_5</th>\n",
              "      <th>striker</th>\n",
              "      <th>non-striker</th>\n",
              "      <th>total</th>\n",
              "      <th>venue_Brabourne Stadium</th>\n",
              "      <th>venue_Buffalo Park</th>\n",
              "      <th>venue_De Beers Diamond Oval</th>\n",
              "      <th>venue_Dr DY Patil Sports Academy</th>\n",
              "      <th>venue_Dr. Y.S. Rajasekhara Reddy ACA-VDCA Cricket Stadium</th>\n",
              "      <th>venue_Dubai International Cricket Stadium</th>\n",
              "      <th>venue_Eden Gardens</th>\n",
              "      <th>venue_Feroz Shah Kotla</th>\n",
              "      <th>venue_Green Park</th>\n",
              "      <th>venue_Himachal Pradesh Cricket Association Stadium</th>\n",
              "      <th>venue_Holkar Cricket Stadium</th>\n",
              "      <th>venue_JSCA International Stadium Complex</th>\n",
              "      <th>venue_Kingsmead</th>\n",
              "      <th>venue_M Chinnaswamy Stadium</th>\n",
              "      <th>venue_MA Chidambaram Stadium, Chepauk</th>\n",
              "      <th>venue_Maharashtra Cricket Association Stadium</th>\n",
              "      <th>venue_Nehru Stadium</th>\n",
              "      <th>venue_New Wanderers Stadium</th>\n",
              "      <th>venue_Newlands</th>\n",
              "      <th>venue_OUTsurance Oval</th>\n",
              "      <th>venue_Punjab Cricket Association IS Bindra Stadium, Mohali</th>\n",
              "      <th>venue_Punjab Cricket Association Stadium, Mohali</th>\n",
              "      <th>venue_Rajiv Gandhi International Stadium, Uppal</th>\n",
              "      <th>venue_Sardar Patel Stadium, Motera</th>\n",
              "      <th>venue_Saurashtra Cricket Association Stadium</th>\n",
              "      <th>venue_Sawai Mansingh Stadium</th>\n",
              "      <th>venue_Shaheed Veer Narayan Singh International Stadium</th>\n",
              "      <th>venue_Sharjah Cricket Stadium</th>\n",
              "      <th>venue_Sheikh Zayed Stadium</th>\n",
              "      <th>venue_St George's Park</th>\n",
              "      <th>venue_Subrata Roy Sahara Stadium</th>\n",
              "      <th>venue_SuperSport Park</th>\n",
              "      <th>...</th>\n",
              "      <th>bowler_Shivam Sharma</th>\n",
              "      <th>bowler_Shoaib Ahmed</th>\n",
              "      <th>bowler_Shoaib Malik</th>\n",
              "      <th>bowler_Sohail Tanvir</th>\n",
              "      <th>bowler_Sunny Gupta</th>\n",
              "      <th>bowler_Swapnil Singh</th>\n",
              "      <th>bowler_T Henderson</th>\n",
              "      <th>bowler_T Natarajan</th>\n",
              "      <th>bowler_T Shamsi</th>\n",
              "      <th>bowler_T Thushara</th>\n",
              "      <th>bowler_TA Boult</th>\n",
              "      <th>bowler_TG Southee</th>\n",
              "      <th>bowler_TL Suman</th>\n",
              "      <th>bowler_TM Dilshan</th>\n",
              "      <th>bowler_TM Head</th>\n",
              "      <th>bowler_TP Sudhindra</th>\n",
              "      <th>bowler_TS Mills</th>\n",
              "      <th>bowler_UT Yadav</th>\n",
              "      <th>bowler_Umar Gul</th>\n",
              "      <th>bowler_V Kohli</th>\n",
              "      <th>bowler_V Pratap Singh</th>\n",
              "      <th>bowler_V Sehwag</th>\n",
              "      <th>bowler_V Shankar</th>\n",
              "      <th>bowler_VR Aaron</th>\n",
              "      <th>bowler_VRV Singh</th>\n",
              "      <th>bowler_VS Malik</th>\n",
              "      <th>bowler_VS Yeligati</th>\n",
              "      <th>bowler_VY Mahesh</th>\n",
              "      <th>bowler_WA Mota</th>\n",
              "      <th>bowler_WD Parnell</th>\n",
              "      <th>bowler_WPUJC Vaas</th>\n",
              "      <th>bowler_Washington Sundar</th>\n",
              "      <th>bowler_Y Gnaneswara Rao</th>\n",
              "      <th>bowler_Y Nagar</th>\n",
              "      <th>bowler_Y Venugopal Rao</th>\n",
              "      <th>bowler_YA Abdulla</th>\n",
              "      <th>bowler_YK Pathan</th>\n",
              "      <th>bowler_YS Chahal</th>\n",
              "      <th>bowler_Yuvraj Singh</th>\n",
              "      <th>bowler_Z Khan</th>\n",
              "    </tr>\n",
              "  </thead>\n",
              "  <tbody>\n",
              "    <tr>\n",
              "      <th>0</th>\n",
              "      <td>1</td>\n",
              "      <td>0</td>\n",
              "      <td>0.1</td>\n",
              "      <td>1</td>\n",
              "      <td>0</td>\n",
              "      <td>0</td>\n",
              "      <td>0</td>\n",
              "      <td>222</td>\n",
              "      <td>0</td>\n",
              "      <td>0</td>\n",
              "      <td>0</td>\n",
              "      <td>0</td>\n",
              "      <td>0</td>\n",
              "      <td>0</td>\n",
              "      <td>0</td>\n",
              "      <td>0</td>\n",
              "      <td>0</td>\n",
              "      <td>0</td>\n",
              "      <td>0</td>\n",
              "      <td>0</td>\n",
              "      <td>0</td>\n",
              "      <td>1</td>\n",
              "      <td>0</td>\n",
              "      <td>0</td>\n",
              "      <td>0</td>\n",
              "      <td>0</td>\n",
              "      <td>0</td>\n",
              "      <td>0</td>\n",
              "      <td>0</td>\n",
              "      <td>0</td>\n",
              "      <td>0</td>\n",
              "      <td>0</td>\n",
              "      <td>0</td>\n",
              "      <td>0</td>\n",
              "      <td>0</td>\n",
              "      <td>0</td>\n",
              "      <td>0</td>\n",
              "      <td>0</td>\n",
              "      <td>0</td>\n",
              "      <td>0</td>\n",
              "      <td>...</td>\n",
              "      <td>0</td>\n",
              "      <td>0</td>\n",
              "      <td>0</td>\n",
              "      <td>0</td>\n",
              "      <td>0</td>\n",
              "      <td>0</td>\n",
              "      <td>0</td>\n",
              "      <td>0</td>\n",
              "      <td>0</td>\n",
              "      <td>0</td>\n",
              "      <td>0</td>\n",
              "      <td>0</td>\n",
              "      <td>0</td>\n",
              "      <td>0</td>\n",
              "      <td>0</td>\n",
              "      <td>0</td>\n",
              "      <td>0</td>\n",
              "      <td>0</td>\n",
              "      <td>0</td>\n",
              "      <td>0</td>\n",
              "      <td>0</td>\n",
              "      <td>0</td>\n",
              "      <td>0</td>\n",
              "      <td>0</td>\n",
              "      <td>0</td>\n",
              "      <td>0</td>\n",
              "      <td>0</td>\n",
              "      <td>0</td>\n",
              "      <td>0</td>\n",
              "      <td>0</td>\n",
              "      <td>0</td>\n",
              "      <td>0</td>\n",
              "      <td>0</td>\n",
              "      <td>0</td>\n",
              "      <td>0</td>\n",
              "      <td>0</td>\n",
              "      <td>0</td>\n",
              "      <td>0</td>\n",
              "      <td>0</td>\n",
              "      <td>0</td>\n",
              "    </tr>\n",
              "    <tr>\n",
              "      <th>1</th>\n",
              "      <td>1</td>\n",
              "      <td>0</td>\n",
              "      <td>0.2</td>\n",
              "      <td>1</td>\n",
              "      <td>0</td>\n",
              "      <td>0</td>\n",
              "      <td>0</td>\n",
              "      <td>222</td>\n",
              "      <td>0</td>\n",
              "      <td>0</td>\n",
              "      <td>0</td>\n",
              "      <td>0</td>\n",
              "      <td>0</td>\n",
              "      <td>0</td>\n",
              "      <td>0</td>\n",
              "      <td>0</td>\n",
              "      <td>0</td>\n",
              "      <td>0</td>\n",
              "      <td>0</td>\n",
              "      <td>0</td>\n",
              "      <td>0</td>\n",
              "      <td>1</td>\n",
              "      <td>0</td>\n",
              "      <td>0</td>\n",
              "      <td>0</td>\n",
              "      <td>0</td>\n",
              "      <td>0</td>\n",
              "      <td>0</td>\n",
              "      <td>0</td>\n",
              "      <td>0</td>\n",
              "      <td>0</td>\n",
              "      <td>0</td>\n",
              "      <td>0</td>\n",
              "      <td>0</td>\n",
              "      <td>0</td>\n",
              "      <td>0</td>\n",
              "      <td>0</td>\n",
              "      <td>0</td>\n",
              "      <td>0</td>\n",
              "      <td>0</td>\n",
              "      <td>...</td>\n",
              "      <td>0</td>\n",
              "      <td>0</td>\n",
              "      <td>0</td>\n",
              "      <td>0</td>\n",
              "      <td>0</td>\n",
              "      <td>0</td>\n",
              "      <td>0</td>\n",
              "      <td>0</td>\n",
              "      <td>0</td>\n",
              "      <td>0</td>\n",
              "      <td>0</td>\n",
              "      <td>0</td>\n",
              "      <td>0</td>\n",
              "      <td>0</td>\n",
              "      <td>0</td>\n",
              "      <td>0</td>\n",
              "      <td>0</td>\n",
              "      <td>0</td>\n",
              "      <td>0</td>\n",
              "      <td>0</td>\n",
              "      <td>0</td>\n",
              "      <td>0</td>\n",
              "      <td>0</td>\n",
              "      <td>0</td>\n",
              "      <td>0</td>\n",
              "      <td>0</td>\n",
              "      <td>0</td>\n",
              "      <td>0</td>\n",
              "      <td>0</td>\n",
              "      <td>0</td>\n",
              "      <td>0</td>\n",
              "      <td>0</td>\n",
              "      <td>0</td>\n",
              "      <td>0</td>\n",
              "      <td>0</td>\n",
              "      <td>0</td>\n",
              "      <td>0</td>\n",
              "      <td>0</td>\n",
              "      <td>0</td>\n",
              "      <td>0</td>\n",
              "    </tr>\n",
              "    <tr>\n",
              "      <th>2</th>\n",
              "      <td>2</td>\n",
              "      <td>0</td>\n",
              "      <td>0.2</td>\n",
              "      <td>2</td>\n",
              "      <td>0</td>\n",
              "      <td>0</td>\n",
              "      <td>0</td>\n",
              "      <td>222</td>\n",
              "      <td>0</td>\n",
              "      <td>0</td>\n",
              "      <td>0</td>\n",
              "      <td>0</td>\n",
              "      <td>0</td>\n",
              "      <td>0</td>\n",
              "      <td>0</td>\n",
              "      <td>0</td>\n",
              "      <td>0</td>\n",
              "      <td>0</td>\n",
              "      <td>0</td>\n",
              "      <td>0</td>\n",
              "      <td>0</td>\n",
              "      <td>1</td>\n",
              "      <td>0</td>\n",
              "      <td>0</td>\n",
              "      <td>0</td>\n",
              "      <td>0</td>\n",
              "      <td>0</td>\n",
              "      <td>0</td>\n",
              "      <td>0</td>\n",
              "      <td>0</td>\n",
              "      <td>0</td>\n",
              "      <td>0</td>\n",
              "      <td>0</td>\n",
              "      <td>0</td>\n",
              "      <td>0</td>\n",
              "      <td>0</td>\n",
              "      <td>0</td>\n",
              "      <td>0</td>\n",
              "      <td>0</td>\n",
              "      <td>0</td>\n",
              "      <td>...</td>\n",
              "      <td>0</td>\n",
              "      <td>0</td>\n",
              "      <td>0</td>\n",
              "      <td>0</td>\n",
              "      <td>0</td>\n",
              "      <td>0</td>\n",
              "      <td>0</td>\n",
              "      <td>0</td>\n",
              "      <td>0</td>\n",
              "      <td>0</td>\n",
              "      <td>0</td>\n",
              "      <td>0</td>\n",
              "      <td>0</td>\n",
              "      <td>0</td>\n",
              "      <td>0</td>\n",
              "      <td>0</td>\n",
              "      <td>0</td>\n",
              "      <td>0</td>\n",
              "      <td>0</td>\n",
              "      <td>0</td>\n",
              "      <td>0</td>\n",
              "      <td>0</td>\n",
              "      <td>0</td>\n",
              "      <td>0</td>\n",
              "      <td>0</td>\n",
              "      <td>0</td>\n",
              "      <td>0</td>\n",
              "      <td>0</td>\n",
              "      <td>0</td>\n",
              "      <td>0</td>\n",
              "      <td>0</td>\n",
              "      <td>0</td>\n",
              "      <td>0</td>\n",
              "      <td>0</td>\n",
              "      <td>0</td>\n",
              "      <td>0</td>\n",
              "      <td>0</td>\n",
              "      <td>0</td>\n",
              "      <td>0</td>\n",
              "      <td>0</td>\n",
              "    </tr>\n",
              "    <tr>\n",
              "      <th>3</th>\n",
              "      <td>2</td>\n",
              "      <td>0</td>\n",
              "      <td>0.3</td>\n",
              "      <td>2</td>\n",
              "      <td>0</td>\n",
              "      <td>0</td>\n",
              "      <td>0</td>\n",
              "      <td>222</td>\n",
              "      <td>0</td>\n",
              "      <td>0</td>\n",
              "      <td>0</td>\n",
              "      <td>0</td>\n",
              "      <td>0</td>\n",
              "      <td>0</td>\n",
              "      <td>0</td>\n",
              "      <td>0</td>\n",
              "      <td>0</td>\n",
              "      <td>0</td>\n",
              "      <td>0</td>\n",
              "      <td>0</td>\n",
              "      <td>0</td>\n",
              "      <td>1</td>\n",
              "      <td>0</td>\n",
              "      <td>0</td>\n",
              "      <td>0</td>\n",
              "      <td>0</td>\n",
              "      <td>0</td>\n",
              "      <td>0</td>\n",
              "      <td>0</td>\n",
              "      <td>0</td>\n",
              "      <td>0</td>\n",
              "      <td>0</td>\n",
              "      <td>0</td>\n",
              "      <td>0</td>\n",
              "      <td>0</td>\n",
              "      <td>0</td>\n",
              "      <td>0</td>\n",
              "      <td>0</td>\n",
              "      <td>0</td>\n",
              "      <td>0</td>\n",
              "      <td>...</td>\n",
              "      <td>0</td>\n",
              "      <td>0</td>\n",
              "      <td>0</td>\n",
              "      <td>0</td>\n",
              "      <td>0</td>\n",
              "      <td>0</td>\n",
              "      <td>0</td>\n",
              "      <td>0</td>\n",
              "      <td>0</td>\n",
              "      <td>0</td>\n",
              "      <td>0</td>\n",
              "      <td>0</td>\n",
              "      <td>0</td>\n",
              "      <td>0</td>\n",
              "      <td>0</td>\n",
              "      <td>0</td>\n",
              "      <td>0</td>\n",
              "      <td>0</td>\n",
              "      <td>0</td>\n",
              "      <td>0</td>\n",
              "      <td>0</td>\n",
              "      <td>0</td>\n",
              "      <td>0</td>\n",
              "      <td>0</td>\n",
              "      <td>0</td>\n",
              "      <td>0</td>\n",
              "      <td>0</td>\n",
              "      <td>0</td>\n",
              "      <td>0</td>\n",
              "      <td>0</td>\n",
              "      <td>0</td>\n",
              "      <td>0</td>\n",
              "      <td>0</td>\n",
              "      <td>0</td>\n",
              "      <td>0</td>\n",
              "      <td>0</td>\n",
              "      <td>0</td>\n",
              "      <td>0</td>\n",
              "      <td>0</td>\n",
              "      <td>0</td>\n",
              "    </tr>\n",
              "    <tr>\n",
              "      <th>4</th>\n",
              "      <td>2</td>\n",
              "      <td>0</td>\n",
              "      <td>0.4</td>\n",
              "      <td>2</td>\n",
              "      <td>0</td>\n",
              "      <td>0</td>\n",
              "      <td>0</td>\n",
              "      <td>222</td>\n",
              "      <td>0</td>\n",
              "      <td>0</td>\n",
              "      <td>0</td>\n",
              "      <td>0</td>\n",
              "      <td>0</td>\n",
              "      <td>0</td>\n",
              "      <td>0</td>\n",
              "      <td>0</td>\n",
              "      <td>0</td>\n",
              "      <td>0</td>\n",
              "      <td>0</td>\n",
              "      <td>0</td>\n",
              "      <td>0</td>\n",
              "      <td>1</td>\n",
              "      <td>0</td>\n",
              "      <td>0</td>\n",
              "      <td>0</td>\n",
              "      <td>0</td>\n",
              "      <td>0</td>\n",
              "      <td>0</td>\n",
              "      <td>0</td>\n",
              "      <td>0</td>\n",
              "      <td>0</td>\n",
              "      <td>0</td>\n",
              "      <td>0</td>\n",
              "      <td>0</td>\n",
              "      <td>0</td>\n",
              "      <td>0</td>\n",
              "      <td>0</td>\n",
              "      <td>0</td>\n",
              "      <td>0</td>\n",
              "      <td>0</td>\n",
              "      <td>...</td>\n",
              "      <td>0</td>\n",
              "      <td>0</td>\n",
              "      <td>0</td>\n",
              "      <td>0</td>\n",
              "      <td>0</td>\n",
              "      <td>0</td>\n",
              "      <td>0</td>\n",
              "      <td>0</td>\n",
              "      <td>0</td>\n",
              "      <td>0</td>\n",
              "      <td>0</td>\n",
              "      <td>0</td>\n",
              "      <td>0</td>\n",
              "      <td>0</td>\n",
              "      <td>0</td>\n",
              "      <td>0</td>\n",
              "      <td>0</td>\n",
              "      <td>0</td>\n",
              "      <td>0</td>\n",
              "      <td>0</td>\n",
              "      <td>0</td>\n",
              "      <td>0</td>\n",
              "      <td>0</td>\n",
              "      <td>0</td>\n",
              "      <td>0</td>\n",
              "      <td>0</td>\n",
              "      <td>0</td>\n",
              "      <td>0</td>\n",
              "      <td>0</td>\n",
              "      <td>0</td>\n",
              "      <td>0</td>\n",
              "      <td>0</td>\n",
              "      <td>0</td>\n",
              "      <td>0</td>\n",
              "      <td>0</td>\n",
              "      <td>0</td>\n",
              "      <td>0</td>\n",
              "      <td>0</td>\n",
              "      <td>0</td>\n",
              "      <td>0</td>\n",
              "    </tr>\n",
              "  </tbody>\n",
              "</table>\n",
              "<p>5 rows × 806 columns</p>\n",
              "</div>"
            ],
            "text/plain": [
              "   runs  wickets  overs  ...  bowler_YS Chahal  bowler_Yuvraj Singh  bowler_Z Khan\n",
              "0     1        0    0.1  ...                 0                    0              0\n",
              "1     1        0    0.2  ...                 0                    0              0\n",
              "2     2        0    0.2  ...                 0                    0              0\n",
              "3     2        0    0.3  ...                 0                    0              0\n",
              "4     2        0    0.4  ...                 0                    0              0\n",
              "\n",
              "[5 rows x 806 columns]"
            ]
          },
          "metadata": {
            "tags": []
          },
          "execution_count": 51
        }
      ]
    },
    {
      "cell_type": "code",
      "metadata": {
        "id": "lKhrs_t-e812",
        "outputId": "4501fbc2-8356-4f69-b454-3426f850ced9",
        "colab": {
          "base_uri": "https://localhost:8080/",
          "height": 34
        }
      },
      "source": [
        "a.shape"
      ],
      "execution_count": 52,
      "outputs": [
        {
          "output_type": "execute_result",
          "data": {
            "text/plain": [
              "(76014, 806)"
            ]
          },
          "metadata": {
            "tags": []
          },
          "execution_count": 52
        }
      ]
    },
    {
      "cell_type": "code",
      "metadata": {
        "id": "PLBAk763flRc",
        "outputId": "5afe46e4-6b52-48af-b8d3-9b8d86725953",
        "colab": {
          "base_uri": "https://localhost:8080/",
          "height": 102
        }
      },
      "source": [
        "a.info()"
      ],
      "execution_count": 53,
      "outputs": [
        {
          "output_type": "stream",
          "text": [
            "<class 'pandas.core.frame.DataFrame'>\n",
            "RangeIndex: 76014 entries, 0 to 76013\n",
            "Columns: 806 entries, runs to bowler_Z Khan\n",
            "dtypes: float64(1), int64(7), uint8(798)\n",
            "memory usage: 62.5 MB\n"
          ],
          "name": "stdout"
        }
      ]
    },
    {
      "cell_type": "markdown",
      "metadata": {
        "id": "g0mSvsELmSc8"
      },
      "source": [
        "Splitting into Feature Values and Target Values"
      ]
    },
    {
      "cell_type": "code",
      "metadata": {
        "id": "FRmOc3KRe-Ee"
      },
      "source": [
        "x=a.drop('total',axis=1)"
      ],
      "execution_count": 54,
      "outputs": []
    },
    {
      "cell_type": "code",
      "metadata": {
        "id": "Grfkaw2_fwz8"
      },
      "source": [
        "y=a['total']"
      ],
      "execution_count": 55,
      "outputs": []
    },
    {
      "cell_type": "markdown",
      "metadata": {
        "id": "2C5TmND2mXm2"
      },
      "source": [
        "Splitting into Train and Test Set"
      ]
    },
    {
      "cell_type": "code",
      "metadata": {
        "id": "m1bAkawdf4Bg"
      },
      "source": [
        "from sklearn.model_selection import train_test_split\n",
        "x_train,x_test,y_train,y_test=train_test_split(x,y,test_size=0.3,random_state=27)"
      ],
      "execution_count": 56,
      "outputs": []
    },
    {
      "cell_type": "markdown",
      "metadata": {
        "id": "vfTDSFidmcXY"
      },
      "source": [
        "Using Random Forest Regressor "
      ]
    },
    {
      "cell_type": "code",
      "metadata": {
        "id": "qxVNKDU9gSVQ"
      },
      "source": [
        "from sklearn.ensemble import RandomForestRegressor"
      ],
      "execution_count": 57,
      "outputs": []
    },
    {
      "cell_type": "code",
      "metadata": {
        "id": "8LYi8Idtg_W1"
      },
      "source": [
        "rf=RandomForestRegressor(n_estimators=100,random_state=0)"
      ],
      "execution_count": 58,
      "outputs": []
    },
    {
      "cell_type": "code",
      "metadata": {
        "id": "5hrVNm1lhJKC",
        "outputId": "82f11cdb-bba2-4e40-a39e-0cd3e990cf9c",
        "colab": {
          "base_uri": "https://localhost:8080/",
          "height": 136
        }
      },
      "source": [
        "rf.fit(x_train,y_train)"
      ],
      "execution_count": 59,
      "outputs": [
        {
          "output_type": "execute_result",
          "data": {
            "text/plain": [
              "RandomForestRegressor(bootstrap=True, ccp_alpha=0.0, criterion='mse',\n",
              "                      max_depth=None, max_features='auto', max_leaf_nodes=None,\n",
              "                      max_samples=None, min_impurity_decrease=0.0,\n",
              "                      min_impurity_split=None, min_samples_leaf=1,\n",
              "                      min_samples_split=2, min_weight_fraction_leaf=0.0,\n",
              "                      n_estimators=100, n_jobs=None, oob_score=False,\n",
              "                      random_state=0, verbose=0, warm_start=False)"
            ]
          },
          "metadata": {
            "tags": []
          },
          "execution_count": 59
        }
      ]
    },
    {
      "cell_type": "markdown",
      "metadata": {
        "id": "xuGkDZSEmhez"
      },
      "source": [
        "Finding Score of Model"
      ]
    },
    {
      "cell_type": "code",
      "metadata": {
        "id": "pjYlq1V0hKdS",
        "outputId": "5a97da34-f8d9-4f51-ddf3-4e3ae3e35120",
        "colab": {
          "base_uri": "https://localhost:8080/",
          "height": 34
        }
      },
      "source": [
        "rf.score(x_test,y_test)"
      ],
      "execution_count": 60,
      "outputs": [
        {
          "output_type": "execute_result",
          "data": {
            "text/plain": [
              "0.9424848059193214"
            ]
          },
          "metadata": {
            "tags": []
          },
          "execution_count": 60
        }
      ]
    },
    {
      "cell_type": "markdown",
      "metadata": {
        "id": "8AqLD6UomlT1"
      },
      "source": [
        "Prediction of score on various feature inputs"
      ]
    },
    {
      "cell_type": "code",
      "metadata": {
        "id": "0DGkvkFZnEVk"
      },
      "source": [
        "df2=pd.DataFrame(x.iloc[[5650,5850]])"
      ],
      "execution_count": 71,
      "outputs": []
    },
    {
      "cell_type": "code",
      "metadata": {
        "id": "l5YAgAfJnemJ"
      },
      "source": [
        "df2.to_csv('sampletest.csv')"
      ],
      "execution_count": 72,
      "outputs": []
    },
    {
      "cell_type": "code",
      "metadata": {
        "id": "gSng2JvXj2bA",
        "outputId": "22398c8d-095b-4251-ba97-91236e0c09a0",
        "colab": {
          "base_uri": "https://localhost:8080/",
          "height": 34
        }
      },
      "source": [
        "rf.predict(x.loc[[600]])"
      ],
      "execution_count": 66,
      "outputs": [
        {
          "output_type": "execute_result",
          "data": {
            "text/plain": [
              "array([111.53])"
            ]
          },
          "metadata": {
            "tags": []
          },
          "execution_count": 66
        }
      ]
    },
    {
      "cell_type": "code",
      "metadata": {
        "id": "cE2i3NORkPjX",
        "outputId": "5018c290-3897-47fb-dbe3-7f319acec59b",
        "colab": {
          "base_uri": "https://localhost:8080/",
          "height": 34
        }
      },
      "source": [
        "rf.predict(x.loc[[4350]])"
      ],
      "execution_count": 67,
      "outputs": [
        {
          "output_type": "execute_result",
          "data": {
            "text/plain": [
              "array([136.35])"
            ]
          },
          "metadata": {
            "tags": []
          },
          "execution_count": 67
        }
      ]
    },
    {
      "cell_type": "code",
      "metadata": {
        "id": "5QA2Ix5rl4-n",
        "outputId": "61ac96b1-31c0-41cf-83b7-525200fa4c1e",
        "colab": {
          "base_uri": "https://localhost:8080/",
          "height": 34
        }
      },
      "source": [
        "rf.predict(x.loc[[243]])"
      ],
      "execution_count": 68,
      "outputs": [
        {
          "output_type": "execute_result",
          "data": {
            "text/plain": [
              "array([239.17])"
            ]
          },
          "metadata": {
            "tags": []
          },
          "execution_count": 68
        }
      ]
    },
    {
      "cell_type": "code",
      "metadata": {
        "id": "HMPcuNVml-Rh"
      },
      "source": [
        "data2=pd.read_csv('sampletest.csv')"
      ],
      "execution_count": 73,
      "outputs": []
    },
    {
      "cell_type": "code",
      "metadata": {
        "id": "yUPR5iIhn5oW",
        "outputId": "731b688f-e44f-4ce3-82e2-95bf82df6ba2",
        "colab": {
          "base_uri": "https://localhost:8080/",
          "height": 262
        }
      },
      "source": [
        "data2.head()"
      ],
      "execution_count": 75,
      "outputs": [
        {
          "output_type": "execute_result",
          "data": {
            "text/html": [
              "<div>\n",
              "<style scoped>\n",
              "    .dataframe tbody tr th:only-of-type {\n",
              "        vertical-align: middle;\n",
              "    }\n",
              "\n",
              "    .dataframe tbody tr th {\n",
              "        vertical-align: top;\n",
              "    }\n",
              "\n",
              "    .dataframe thead th {\n",
              "        text-align: right;\n",
              "    }\n",
              "</style>\n",
              "<table border=\"1\" class=\"dataframe\">\n",
              "  <thead>\n",
              "    <tr style=\"text-align: right;\">\n",
              "      <th></th>\n",
              "      <th>Unnamed: 0</th>\n",
              "      <th>runs</th>\n",
              "      <th>wickets</th>\n",
              "      <th>overs</th>\n",
              "      <th>runs_last_5</th>\n",
              "      <th>wickets_last_5</th>\n",
              "      <th>striker</th>\n",
              "      <th>non-striker</th>\n",
              "      <th>venue_Brabourne Stadium</th>\n",
              "      <th>venue_Buffalo Park</th>\n",
              "      <th>venue_De Beers Diamond Oval</th>\n",
              "      <th>venue_Dr DY Patil Sports Academy</th>\n",
              "      <th>venue_Dr. Y.S. Rajasekhara Reddy ACA-VDCA Cricket Stadium</th>\n",
              "      <th>venue_Dubai International Cricket Stadium</th>\n",
              "      <th>venue_Eden Gardens</th>\n",
              "      <th>venue_Feroz Shah Kotla</th>\n",
              "      <th>venue_Green Park</th>\n",
              "      <th>venue_Himachal Pradesh Cricket Association Stadium</th>\n",
              "      <th>venue_Holkar Cricket Stadium</th>\n",
              "      <th>venue_JSCA International Stadium Complex</th>\n",
              "      <th>venue_Kingsmead</th>\n",
              "      <th>venue_M Chinnaswamy Stadium</th>\n",
              "      <th>venue_MA Chidambaram Stadium, Chepauk</th>\n",
              "      <th>venue_Maharashtra Cricket Association Stadium</th>\n",
              "      <th>venue_Nehru Stadium</th>\n",
              "      <th>venue_New Wanderers Stadium</th>\n",
              "      <th>venue_Newlands</th>\n",
              "      <th>venue_OUTsurance Oval</th>\n",
              "      <th>venue_Punjab Cricket Association IS Bindra Stadium, Mohali</th>\n",
              "      <th>venue_Punjab Cricket Association Stadium, Mohali</th>\n",
              "      <th>venue_Rajiv Gandhi International Stadium, Uppal</th>\n",
              "      <th>venue_Sardar Patel Stadium, Motera</th>\n",
              "      <th>venue_Saurashtra Cricket Association Stadium</th>\n",
              "      <th>venue_Sawai Mansingh Stadium</th>\n",
              "      <th>venue_Shaheed Veer Narayan Singh International Stadium</th>\n",
              "      <th>venue_Sharjah Cricket Stadium</th>\n",
              "      <th>venue_Sheikh Zayed Stadium</th>\n",
              "      <th>venue_St George's Park</th>\n",
              "      <th>venue_Subrata Roy Sahara Stadium</th>\n",
              "      <th>venue_SuperSport Park</th>\n",
              "      <th>...</th>\n",
              "      <th>bowler_Shivam Sharma</th>\n",
              "      <th>bowler_Shoaib Ahmed</th>\n",
              "      <th>bowler_Shoaib Malik</th>\n",
              "      <th>bowler_Sohail Tanvir</th>\n",
              "      <th>bowler_Sunny Gupta</th>\n",
              "      <th>bowler_Swapnil Singh</th>\n",
              "      <th>bowler_T Henderson</th>\n",
              "      <th>bowler_T Natarajan</th>\n",
              "      <th>bowler_T Shamsi</th>\n",
              "      <th>bowler_T Thushara</th>\n",
              "      <th>bowler_TA Boult</th>\n",
              "      <th>bowler_TG Southee</th>\n",
              "      <th>bowler_TL Suman</th>\n",
              "      <th>bowler_TM Dilshan</th>\n",
              "      <th>bowler_TM Head</th>\n",
              "      <th>bowler_TP Sudhindra</th>\n",
              "      <th>bowler_TS Mills</th>\n",
              "      <th>bowler_UT Yadav</th>\n",
              "      <th>bowler_Umar Gul</th>\n",
              "      <th>bowler_V Kohli</th>\n",
              "      <th>bowler_V Pratap Singh</th>\n",
              "      <th>bowler_V Sehwag</th>\n",
              "      <th>bowler_V Shankar</th>\n",
              "      <th>bowler_VR Aaron</th>\n",
              "      <th>bowler_VRV Singh</th>\n",
              "      <th>bowler_VS Malik</th>\n",
              "      <th>bowler_VS Yeligati</th>\n",
              "      <th>bowler_VY Mahesh</th>\n",
              "      <th>bowler_WA Mota</th>\n",
              "      <th>bowler_WD Parnell</th>\n",
              "      <th>bowler_WPUJC Vaas</th>\n",
              "      <th>bowler_Washington Sundar</th>\n",
              "      <th>bowler_Y Gnaneswara Rao</th>\n",
              "      <th>bowler_Y Nagar</th>\n",
              "      <th>bowler_Y Venugopal Rao</th>\n",
              "      <th>bowler_YA Abdulla</th>\n",
              "      <th>bowler_YK Pathan</th>\n",
              "      <th>bowler_YS Chahal</th>\n",
              "      <th>bowler_Yuvraj Singh</th>\n",
              "      <th>bowler_Z Khan</th>\n",
              "    </tr>\n",
              "  </thead>\n",
              "  <tbody>\n",
              "    <tr>\n",
              "      <th>0</th>\n",
              "      <td>5650</td>\n",
              "      <td>31</td>\n",
              "      <td>0</td>\n",
              "      <td>3.5</td>\n",
              "      <td>31</td>\n",
              "      <td>0</td>\n",
              "      <td>15</td>\n",
              "      <td>15</td>\n",
              "      <td>0</td>\n",
              "      <td>0</td>\n",
              "      <td>0</td>\n",
              "      <td>0</td>\n",
              "      <td>0</td>\n",
              "      <td>0</td>\n",
              "      <td>0</td>\n",
              "      <td>0</td>\n",
              "      <td>0</td>\n",
              "      <td>0</td>\n",
              "      <td>0</td>\n",
              "      <td>0</td>\n",
              "      <td>0</td>\n",
              "      <td>0</td>\n",
              "      <td>0</td>\n",
              "      <td>0</td>\n",
              "      <td>0</td>\n",
              "      <td>0</td>\n",
              "      <td>0</td>\n",
              "      <td>0</td>\n",
              "      <td>0</td>\n",
              "      <td>1</td>\n",
              "      <td>0</td>\n",
              "      <td>0</td>\n",
              "      <td>0</td>\n",
              "      <td>0</td>\n",
              "      <td>0</td>\n",
              "      <td>0</td>\n",
              "      <td>0</td>\n",
              "      <td>0</td>\n",
              "      <td>0</td>\n",
              "      <td>0</td>\n",
              "      <td>...</td>\n",
              "      <td>0</td>\n",
              "      <td>0</td>\n",
              "      <td>0</td>\n",
              "      <td>0</td>\n",
              "      <td>0</td>\n",
              "      <td>0</td>\n",
              "      <td>0</td>\n",
              "      <td>0</td>\n",
              "      <td>0</td>\n",
              "      <td>0</td>\n",
              "      <td>0</td>\n",
              "      <td>0</td>\n",
              "      <td>0</td>\n",
              "      <td>0</td>\n",
              "      <td>0</td>\n",
              "      <td>0</td>\n",
              "      <td>0</td>\n",
              "      <td>0</td>\n",
              "      <td>0</td>\n",
              "      <td>0</td>\n",
              "      <td>0</td>\n",
              "      <td>0</td>\n",
              "      <td>0</td>\n",
              "      <td>0</td>\n",
              "      <td>1</td>\n",
              "      <td>0</td>\n",
              "      <td>0</td>\n",
              "      <td>0</td>\n",
              "      <td>0</td>\n",
              "      <td>0</td>\n",
              "      <td>0</td>\n",
              "      <td>0</td>\n",
              "      <td>0</td>\n",
              "      <td>0</td>\n",
              "      <td>0</td>\n",
              "      <td>0</td>\n",
              "      <td>0</td>\n",
              "      <td>0</td>\n",
              "      <td>0</td>\n",
              "      <td>0</td>\n",
              "    </tr>\n",
              "    <tr>\n",
              "      <th>1</th>\n",
              "      <td>5850</td>\n",
              "      <td>128</td>\n",
              "      <td>4</td>\n",
              "      <td>15.6</td>\n",
              "      <td>32</td>\n",
              "      <td>3</td>\n",
              "      <td>15</td>\n",
              "      <td>4</td>\n",
              "      <td>0</td>\n",
              "      <td>0</td>\n",
              "      <td>0</td>\n",
              "      <td>0</td>\n",
              "      <td>0</td>\n",
              "      <td>0</td>\n",
              "      <td>0</td>\n",
              "      <td>1</td>\n",
              "      <td>0</td>\n",
              "      <td>0</td>\n",
              "      <td>0</td>\n",
              "      <td>0</td>\n",
              "      <td>0</td>\n",
              "      <td>0</td>\n",
              "      <td>0</td>\n",
              "      <td>0</td>\n",
              "      <td>0</td>\n",
              "      <td>0</td>\n",
              "      <td>0</td>\n",
              "      <td>0</td>\n",
              "      <td>0</td>\n",
              "      <td>0</td>\n",
              "      <td>0</td>\n",
              "      <td>0</td>\n",
              "      <td>0</td>\n",
              "      <td>0</td>\n",
              "      <td>0</td>\n",
              "      <td>0</td>\n",
              "      <td>0</td>\n",
              "      <td>0</td>\n",
              "      <td>0</td>\n",
              "      <td>0</td>\n",
              "      <td>...</td>\n",
              "      <td>0</td>\n",
              "      <td>0</td>\n",
              "      <td>0</td>\n",
              "      <td>0</td>\n",
              "      <td>0</td>\n",
              "      <td>0</td>\n",
              "      <td>0</td>\n",
              "      <td>0</td>\n",
              "      <td>0</td>\n",
              "      <td>0</td>\n",
              "      <td>0</td>\n",
              "      <td>0</td>\n",
              "      <td>0</td>\n",
              "      <td>0</td>\n",
              "      <td>0</td>\n",
              "      <td>0</td>\n",
              "      <td>0</td>\n",
              "      <td>0</td>\n",
              "      <td>0</td>\n",
              "      <td>0</td>\n",
              "      <td>0</td>\n",
              "      <td>0</td>\n",
              "      <td>0</td>\n",
              "      <td>0</td>\n",
              "      <td>0</td>\n",
              "      <td>0</td>\n",
              "      <td>0</td>\n",
              "      <td>0</td>\n",
              "      <td>0</td>\n",
              "      <td>0</td>\n",
              "      <td>0</td>\n",
              "      <td>0</td>\n",
              "      <td>0</td>\n",
              "      <td>0</td>\n",
              "      <td>0</td>\n",
              "      <td>0</td>\n",
              "      <td>0</td>\n",
              "      <td>0</td>\n",
              "      <td>0</td>\n",
              "      <td>0</td>\n",
              "    </tr>\n",
              "  </tbody>\n",
              "</table>\n",
              "<p>2 rows × 806 columns</p>\n",
              "</div>"
            ],
            "text/plain": [
              "   Unnamed: 0  runs  ...  bowler_Yuvraj Singh  bowler_Z Khan\n",
              "0        5650    31  ...                    0              0\n",
              "1        5850   128  ...                    0              0\n",
              "\n",
              "[2 rows x 806 columns]"
            ]
          },
          "metadata": {
            "tags": []
          },
          "execution_count": 75
        }
      ]
    },
    {
      "cell_type": "code",
      "metadata": {
        "id": "9Z5PFlMOn8JY"
      },
      "source": [
        "data2=data2.drop(data2.columns[0], axis=1)"
      ],
      "execution_count": 78,
      "outputs": []
    },
    {
      "cell_type": "code",
      "metadata": {
        "id": "tgfQGDQDoKeM",
        "outputId": "8d7db40f-1f05-4c01-e669-31f739209204",
        "colab": {
          "base_uri": "https://localhost:8080/",
          "height": 262
        }
      },
      "source": [
        "data2.head()"
      ],
      "execution_count": 79,
      "outputs": [
        {
          "output_type": "execute_result",
          "data": {
            "text/html": [
              "<div>\n",
              "<style scoped>\n",
              "    .dataframe tbody tr th:only-of-type {\n",
              "        vertical-align: middle;\n",
              "    }\n",
              "\n",
              "    .dataframe tbody tr th {\n",
              "        vertical-align: top;\n",
              "    }\n",
              "\n",
              "    .dataframe thead th {\n",
              "        text-align: right;\n",
              "    }\n",
              "</style>\n",
              "<table border=\"1\" class=\"dataframe\">\n",
              "  <thead>\n",
              "    <tr style=\"text-align: right;\">\n",
              "      <th></th>\n",
              "      <th>runs</th>\n",
              "      <th>wickets</th>\n",
              "      <th>overs</th>\n",
              "      <th>runs_last_5</th>\n",
              "      <th>wickets_last_5</th>\n",
              "      <th>striker</th>\n",
              "      <th>non-striker</th>\n",
              "      <th>venue_Brabourne Stadium</th>\n",
              "      <th>venue_Buffalo Park</th>\n",
              "      <th>venue_De Beers Diamond Oval</th>\n",
              "      <th>venue_Dr DY Patil Sports Academy</th>\n",
              "      <th>venue_Dr. Y.S. Rajasekhara Reddy ACA-VDCA Cricket Stadium</th>\n",
              "      <th>venue_Dubai International Cricket Stadium</th>\n",
              "      <th>venue_Eden Gardens</th>\n",
              "      <th>venue_Feroz Shah Kotla</th>\n",
              "      <th>venue_Green Park</th>\n",
              "      <th>venue_Himachal Pradesh Cricket Association Stadium</th>\n",
              "      <th>venue_Holkar Cricket Stadium</th>\n",
              "      <th>venue_JSCA International Stadium Complex</th>\n",
              "      <th>venue_Kingsmead</th>\n",
              "      <th>venue_M Chinnaswamy Stadium</th>\n",
              "      <th>venue_MA Chidambaram Stadium, Chepauk</th>\n",
              "      <th>venue_Maharashtra Cricket Association Stadium</th>\n",
              "      <th>venue_Nehru Stadium</th>\n",
              "      <th>venue_New Wanderers Stadium</th>\n",
              "      <th>venue_Newlands</th>\n",
              "      <th>venue_OUTsurance Oval</th>\n",
              "      <th>venue_Punjab Cricket Association IS Bindra Stadium, Mohali</th>\n",
              "      <th>venue_Punjab Cricket Association Stadium, Mohali</th>\n",
              "      <th>venue_Rajiv Gandhi International Stadium, Uppal</th>\n",
              "      <th>venue_Sardar Patel Stadium, Motera</th>\n",
              "      <th>venue_Saurashtra Cricket Association Stadium</th>\n",
              "      <th>venue_Sawai Mansingh Stadium</th>\n",
              "      <th>venue_Shaheed Veer Narayan Singh International Stadium</th>\n",
              "      <th>venue_Sharjah Cricket Stadium</th>\n",
              "      <th>venue_Sheikh Zayed Stadium</th>\n",
              "      <th>venue_St George's Park</th>\n",
              "      <th>venue_Subrata Roy Sahara Stadium</th>\n",
              "      <th>venue_SuperSport Park</th>\n",
              "      <th>venue_Vidarbha Cricket Association Stadium, Jamtha</th>\n",
              "      <th>...</th>\n",
              "      <th>bowler_Shivam Sharma</th>\n",
              "      <th>bowler_Shoaib Ahmed</th>\n",
              "      <th>bowler_Shoaib Malik</th>\n",
              "      <th>bowler_Sohail Tanvir</th>\n",
              "      <th>bowler_Sunny Gupta</th>\n",
              "      <th>bowler_Swapnil Singh</th>\n",
              "      <th>bowler_T Henderson</th>\n",
              "      <th>bowler_T Natarajan</th>\n",
              "      <th>bowler_T Shamsi</th>\n",
              "      <th>bowler_T Thushara</th>\n",
              "      <th>bowler_TA Boult</th>\n",
              "      <th>bowler_TG Southee</th>\n",
              "      <th>bowler_TL Suman</th>\n",
              "      <th>bowler_TM Dilshan</th>\n",
              "      <th>bowler_TM Head</th>\n",
              "      <th>bowler_TP Sudhindra</th>\n",
              "      <th>bowler_TS Mills</th>\n",
              "      <th>bowler_UT Yadav</th>\n",
              "      <th>bowler_Umar Gul</th>\n",
              "      <th>bowler_V Kohli</th>\n",
              "      <th>bowler_V Pratap Singh</th>\n",
              "      <th>bowler_V Sehwag</th>\n",
              "      <th>bowler_V Shankar</th>\n",
              "      <th>bowler_VR Aaron</th>\n",
              "      <th>bowler_VRV Singh</th>\n",
              "      <th>bowler_VS Malik</th>\n",
              "      <th>bowler_VS Yeligati</th>\n",
              "      <th>bowler_VY Mahesh</th>\n",
              "      <th>bowler_WA Mota</th>\n",
              "      <th>bowler_WD Parnell</th>\n",
              "      <th>bowler_WPUJC Vaas</th>\n",
              "      <th>bowler_Washington Sundar</th>\n",
              "      <th>bowler_Y Gnaneswara Rao</th>\n",
              "      <th>bowler_Y Nagar</th>\n",
              "      <th>bowler_Y Venugopal Rao</th>\n",
              "      <th>bowler_YA Abdulla</th>\n",
              "      <th>bowler_YK Pathan</th>\n",
              "      <th>bowler_YS Chahal</th>\n",
              "      <th>bowler_Yuvraj Singh</th>\n",
              "      <th>bowler_Z Khan</th>\n",
              "    </tr>\n",
              "  </thead>\n",
              "  <tbody>\n",
              "    <tr>\n",
              "      <th>0</th>\n",
              "      <td>31</td>\n",
              "      <td>0</td>\n",
              "      <td>3.5</td>\n",
              "      <td>31</td>\n",
              "      <td>0</td>\n",
              "      <td>15</td>\n",
              "      <td>15</td>\n",
              "      <td>0</td>\n",
              "      <td>0</td>\n",
              "      <td>0</td>\n",
              "      <td>0</td>\n",
              "      <td>0</td>\n",
              "      <td>0</td>\n",
              "      <td>0</td>\n",
              "      <td>0</td>\n",
              "      <td>0</td>\n",
              "      <td>0</td>\n",
              "      <td>0</td>\n",
              "      <td>0</td>\n",
              "      <td>0</td>\n",
              "      <td>0</td>\n",
              "      <td>0</td>\n",
              "      <td>0</td>\n",
              "      <td>0</td>\n",
              "      <td>0</td>\n",
              "      <td>0</td>\n",
              "      <td>0</td>\n",
              "      <td>0</td>\n",
              "      <td>1</td>\n",
              "      <td>0</td>\n",
              "      <td>0</td>\n",
              "      <td>0</td>\n",
              "      <td>0</td>\n",
              "      <td>0</td>\n",
              "      <td>0</td>\n",
              "      <td>0</td>\n",
              "      <td>0</td>\n",
              "      <td>0</td>\n",
              "      <td>0</td>\n",
              "      <td>0</td>\n",
              "      <td>...</td>\n",
              "      <td>0</td>\n",
              "      <td>0</td>\n",
              "      <td>0</td>\n",
              "      <td>0</td>\n",
              "      <td>0</td>\n",
              "      <td>0</td>\n",
              "      <td>0</td>\n",
              "      <td>0</td>\n",
              "      <td>0</td>\n",
              "      <td>0</td>\n",
              "      <td>0</td>\n",
              "      <td>0</td>\n",
              "      <td>0</td>\n",
              "      <td>0</td>\n",
              "      <td>0</td>\n",
              "      <td>0</td>\n",
              "      <td>0</td>\n",
              "      <td>0</td>\n",
              "      <td>0</td>\n",
              "      <td>0</td>\n",
              "      <td>0</td>\n",
              "      <td>0</td>\n",
              "      <td>0</td>\n",
              "      <td>0</td>\n",
              "      <td>1</td>\n",
              "      <td>0</td>\n",
              "      <td>0</td>\n",
              "      <td>0</td>\n",
              "      <td>0</td>\n",
              "      <td>0</td>\n",
              "      <td>0</td>\n",
              "      <td>0</td>\n",
              "      <td>0</td>\n",
              "      <td>0</td>\n",
              "      <td>0</td>\n",
              "      <td>0</td>\n",
              "      <td>0</td>\n",
              "      <td>0</td>\n",
              "      <td>0</td>\n",
              "      <td>0</td>\n",
              "    </tr>\n",
              "    <tr>\n",
              "      <th>1</th>\n",
              "      <td>128</td>\n",
              "      <td>4</td>\n",
              "      <td>15.6</td>\n",
              "      <td>32</td>\n",
              "      <td>3</td>\n",
              "      <td>15</td>\n",
              "      <td>4</td>\n",
              "      <td>0</td>\n",
              "      <td>0</td>\n",
              "      <td>0</td>\n",
              "      <td>0</td>\n",
              "      <td>0</td>\n",
              "      <td>0</td>\n",
              "      <td>0</td>\n",
              "      <td>1</td>\n",
              "      <td>0</td>\n",
              "      <td>0</td>\n",
              "      <td>0</td>\n",
              "      <td>0</td>\n",
              "      <td>0</td>\n",
              "      <td>0</td>\n",
              "      <td>0</td>\n",
              "      <td>0</td>\n",
              "      <td>0</td>\n",
              "      <td>0</td>\n",
              "      <td>0</td>\n",
              "      <td>0</td>\n",
              "      <td>0</td>\n",
              "      <td>0</td>\n",
              "      <td>0</td>\n",
              "      <td>0</td>\n",
              "      <td>0</td>\n",
              "      <td>0</td>\n",
              "      <td>0</td>\n",
              "      <td>0</td>\n",
              "      <td>0</td>\n",
              "      <td>0</td>\n",
              "      <td>0</td>\n",
              "      <td>0</td>\n",
              "      <td>0</td>\n",
              "      <td>...</td>\n",
              "      <td>0</td>\n",
              "      <td>0</td>\n",
              "      <td>0</td>\n",
              "      <td>0</td>\n",
              "      <td>0</td>\n",
              "      <td>0</td>\n",
              "      <td>0</td>\n",
              "      <td>0</td>\n",
              "      <td>0</td>\n",
              "      <td>0</td>\n",
              "      <td>0</td>\n",
              "      <td>0</td>\n",
              "      <td>0</td>\n",
              "      <td>0</td>\n",
              "      <td>0</td>\n",
              "      <td>0</td>\n",
              "      <td>0</td>\n",
              "      <td>0</td>\n",
              "      <td>0</td>\n",
              "      <td>0</td>\n",
              "      <td>0</td>\n",
              "      <td>0</td>\n",
              "      <td>0</td>\n",
              "      <td>0</td>\n",
              "      <td>0</td>\n",
              "      <td>0</td>\n",
              "      <td>0</td>\n",
              "      <td>0</td>\n",
              "      <td>0</td>\n",
              "      <td>0</td>\n",
              "      <td>0</td>\n",
              "      <td>0</td>\n",
              "      <td>0</td>\n",
              "      <td>0</td>\n",
              "      <td>0</td>\n",
              "      <td>0</td>\n",
              "      <td>0</td>\n",
              "      <td>0</td>\n",
              "      <td>0</td>\n",
              "      <td>0</td>\n",
              "    </tr>\n",
              "  </tbody>\n",
              "</table>\n",
              "<p>2 rows × 805 columns</p>\n",
              "</div>"
            ],
            "text/plain": [
              "   runs  wickets  overs  ...  bowler_YS Chahal  bowler_Yuvraj Singh  bowler_Z Khan\n",
              "0    31        0    3.5  ...                 0                    0              0\n",
              "1   128        4   15.6  ...                 0                    0              0\n",
              "\n",
              "[2 rows x 805 columns]"
            ]
          },
          "metadata": {
            "tags": []
          },
          "execution_count": 79
        }
      ]
    },
    {
      "cell_type": "code",
      "metadata": {
        "id": "AVSvhTpXo2vD",
        "outputId": "11cfdff2-d676-4f77-f5cc-13c09ab29a95",
        "colab": {
          "base_uri": "https://localhost:8080/",
          "height": 34
        }
      },
      "source": [
        "rf.predict(data2)"
      ],
      "execution_count": 80,
      "outputs": [
        {
          "output_type": "execute_result",
          "data": {
            "text/plain": [
              "array([175.2 , 176.19])"
            ]
          },
          "metadata": {
            "tags": []
          },
          "execution_count": 80
        }
      ]
    },
    {
      "cell_type": "code",
      "metadata": {
        "id": "fEBgZt_co5pL"
      },
      "source": [
        ""
      ],
      "execution_count": null,
      "outputs": []
    }
  ]
}